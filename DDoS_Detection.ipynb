{
  "metadata": {
    "kernelspec": {
      "language": "python",
      "display_name": "Python 3",
      "name": "python3"
    },
    "language_info": {
      "name": "python",
      "version": "3.10.13",
      "mimetype": "text/x-python",
      "codemirror_mode": {
        "name": "ipython",
        "version": 3
      },
      "pygments_lexer": "ipython3",
      "nbconvert_exporter": "python",
      "file_extension": ".py"
    },
    "kaggle": {
      "accelerator": "none",
      "dataSources": [
        {
          "sourceId": 6878499,
          "sourceType": "datasetVersion",
          "datasetId": 3952124
        }
      ],
      "dockerImageVersionId": 30673,
      "isInternetEnabled": false,
      "language": "python",
      "sourceType": "notebook",
      "isGpuEnabled": false
    },
    "colab": {
      "name": "Major Project",
      "provenance": []
    }
  },
  "nbformat_minor": 0,
  "nbformat": 4,
  "cells": [
    {
      "source": [
        "\n",
        "# IMPORTANT: RUN THIS CELL IN ORDER TO IMPORT YOUR KAGGLE DATA SOURCES\n",
        "# TO THE CORRECT LOCATION (/kaggle/input) IN YOUR NOTEBOOK,\n",
        "# THEN FEEL FREE TO DELETE THIS CELL.\n",
        "# NOTE: THIS NOTEBOOK ENVIRONMENT DIFFERS FROM KAGGLE'S PYTHON\n",
        "# ENVIRONMENT SO THERE MAY BE MISSING LIBRARIES USED BY YOUR\n",
        "# NOTEBOOK.\n",
        "\n",
        "import os\n",
        "import sys\n",
        "from tempfile import NamedTemporaryFile\n",
        "from urllib.request import urlopen\n",
        "from urllib.parse import unquote, urlparse\n",
        "from urllib.error import HTTPError\n",
        "from zipfile import ZipFile\n",
        "import tarfile\n",
        "import shutil\n",
        "\n",
        "CHUNK_SIZE = 40960\n",
        "DATA_SOURCE_MAPPING = 'cic-ddos2019-30gb-full-dataset-csv-files:https%3A%2F%2Fstorage.googleapis.com%2Fkaggle-data-sets%2F3952124%2F6878499%2Fbundle%2Farchive.zip%3FX-Goog-Algorithm%3DGOOG4-RSA-SHA256%26X-Goog-Credential%3Dgcp-kaggle-com%2540kaggle-161607.iam.gserviceaccount.com%252F20240527%252Fauto%252Fstorage%252Fgoog4_request%26X-Goog-Date%3D20240527T065747Z%26X-Goog-Expires%3D259200%26X-Goog-SignedHeaders%3Dhost%26X-Goog-Signature%3D61f35ab0e564f47f49921b32207f3e3dbe32f0755b804a95cd9a2e1afbf9128126b473f028a92f9286d7d7b829310ddae4b84f2d4ee9f970743217a65899a0f42604355db473a377afb3f9607c6e4270f91ec1076c1fa6311b878ac2e06f652c94860553ba3bf861b06a7573d8b5eefed71487e953b4e6d665ded29ed120c82e27929bc7124a60a3838ea5688e772e7d4779d70bb6fccb5c6fcc149c8c3eacbfec4c8019f633facb4f36a2b93480ddd2e9b3a1386656e44f309fdef85ac48ab3afc0c9a5dbe9b27320d4b0ba5d595adcf847c723ed89ba05891856b31bc730e813dd13a57b33de03f342e64ef8fee4b7c59830def7834590b40da4578795a008'\n",
        "\n",
        "KAGGLE_INPUT_PATH='/kaggle/input'\n",
        "KAGGLE_WORKING_PATH='/kaggle/working'\n",
        "KAGGLE_SYMLINK='kaggle'\n",
        "\n",
        "!umount /kaggle/input/ 2> /dev/null\n",
        "shutil.rmtree('/kaggle/input', ignore_errors=True)\n",
        "os.makedirs(KAGGLE_INPUT_PATH, 0o777, exist_ok=True)\n",
        "os.makedirs(KAGGLE_WORKING_PATH, 0o777, exist_ok=True)\n",
        "\n",
        "try:\n",
        "  os.symlink(KAGGLE_INPUT_PATH, os.path.join(\"..\", 'input'), target_is_directory=True)\n",
        "except FileExistsError:\n",
        "  pass\n",
        "try:\n",
        "  os.symlink(KAGGLE_WORKING_PATH, os.path.join(\"..\", 'working'), target_is_directory=True)\n",
        "except FileExistsError:\n",
        "  pass\n",
        "\n",
        "for data_source_mapping in DATA_SOURCE_MAPPING.split(','):\n",
        "    directory, download_url_encoded = data_source_mapping.split(':')\n",
        "    download_url = unquote(download_url_encoded)\n",
        "    filename = urlparse(download_url).path\n",
        "    destination_path = os.path.join(KAGGLE_INPUT_PATH, directory)\n",
        "    try:\n",
        "        with urlopen(download_url) as fileres, NamedTemporaryFile() as tfile:\n",
        "            total_length = fileres.headers['content-length']\n",
        "            print(f'Downloading {directory}, {total_length} bytes compressed')\n",
        "            dl = 0\n",
        "            data = fileres.read(CHUNK_SIZE)\n",
        "            while len(data) > 0:\n",
        "                dl += len(data)\n",
        "                tfile.write(data)\n",
        "                done = int(50 * dl / int(total_length))\n",
        "                sys.stdout.write(f\"\\r[{'=' * done}{' ' * (50-done)}] {dl} bytes downloaded\")\n",
        "                sys.stdout.flush()\n",
        "                data = fileres.read(CHUNK_SIZE)\n",
        "            if filename.endswith('.zip'):\n",
        "              with ZipFile(tfile) as zfile:\n",
        "                zfile.extractall(destination_path)\n",
        "            else:\n",
        "              with tarfile.open(tfile.name) as tarfile:\n",
        "                tarfile.extractall(destination_path)\n",
        "            print(f'\\nDownloaded and uncompressed: {directory}')\n",
        "    except HTTPError as e:\n",
        "        print(f'Failed to load (likely expired) {download_url} to path {destination_path}')\n",
        "        continue\n",
        "    except OSError as e:\n",
        "        print(f'Failed to load {download_url} to path {destination_path}')\n",
        "        continue\n",
        "\n",
        "print('Data source import complete.')\n"
      ],
      "metadata": {
        "id": "rEKu4UNZ11mt"
      },
      "cell_type": "code",
      "outputs": [],
      "execution_count": null
    },
    {
      "cell_type": "code",
      "source": [
        "# This Python 3 environment comes with many helpful analytics libraries installed\n",
        "# It is defined by the kaggle/python Docker image: https://github.com/kaggle/docker-python\n",
        "# For example, here's several helpful packages to load\n",
        "\n",
        "import numpy as np # linear algebra\n",
        "import pandas as pd # data processing, CSV file I/O (e.g. pd.read_csv)\n",
        "from sklearn.model_selection import train_test_split\n",
        "from sklearn.preprocessing import StandardScaler\n",
        "from sklearn.ensemble import RandomForestClassifier\n",
        "\n",
        "\n",
        "# Input data files are available in the read-only \"../input/\" directory\n",
        "# For example, running this (by clicking run or pressing Shift+Enter) will list all files under the input directory\n",
        "\n",
        "import os\n",
        "for dirname, _, filenames in os.walk('/kaggle/input'):\n",
        "    for filename in filenames:\n",
        "        print(os.path.join(dirname, filename))\n",
        "\n",
        "# You can write up to 20GB to the current directory (/kaggle/working/) that gets preserved as output when you create a version using \"Save & Run All\"\n",
        "# You can also write temporary files to /kaggle/temp/, but they won't be saved outside of the current session\n",
        "\n"
      ],
      "metadata": {
        "_uuid": "8f2839f25d086af736a60e9eeb907d3b93b6e0e5",
        "_cell_guid": "b1076dfc-b9ad-4769-8c92-a6c4dae69d19",
        "execution": {
          "iopub.status.busy": "2024-04-05T09:11:05.570069Z",
          "iopub.execute_input": "2024-04-05T09:11:05.570503Z",
          "iopub.status.idle": "2024-04-05T09:11:06.995609Z",
          "shell.execute_reply.started": "2024-04-05T09:11:05.570471Z",
          "shell.execute_reply": "2024-04-05T09:11:06.993759Z"
        },
        "trusted": true,
        "id": "vLQQs7_n11mx"
      },
      "execution_count": null,
      "outputs": []
    },
    {
      "cell_type": "code",
      "source": [
        "syn_train_path = \"/kaggle/input/cic-ddos2019-30gb-full-dataset-csv-files/01-12/DrDoS_UDP.csv\"\n",
        "syn_test_path = \"/kaggle/input/cic-ddos2019-30gb-full-dataset-csv-files/03-11/UDP.csv\"\n",
        "\n",
        "syn_train = pd.read_csv(syn_train_path)\n",
        "syn_train = pd.DataFrame(syn_train)\n",
        "\n",
        "syn_test = pd.read_csv(syn_test_path)\n",
        "syn_test = pd.DataFrame(syn_test)\n",
        "\n",
        "\n",
        "syn_train.replace([np.inf, -np.inf], np.nan, inplace=True)\n",
        "syn_train.dropna(inplace=True)\n",
        "\n",
        "syn_test.replace([np.inf, -np.inf], np.nan, inplace=True)\n",
        "syn_test.dropna(inplace=True)\n",
        "\n",
        "\n"
      ],
      "metadata": {
        "execution": {
          "iopub.status.busy": "2024-04-05T09:11:06.998009Z",
          "iopub.execute_input": "2024-04-05T09:11:06.999526Z",
          "iopub.status.idle": "2024-04-05T09:13:24.530276Z",
          "shell.execute_reply.started": "2024-04-05T09:11:06.999472Z",
          "shell.execute_reply": "2024-04-05T09:13:24.528389Z"
        },
        "trusted": true,
        "id": "cWdTxmD511my"
      },
      "execution_count": null,
      "outputs": []
    },
    {
      "cell_type": "code",
      "source": [
        "print(set(syn_test[' Label']))\n",
        "print(set(syn_train[' Label']))"
      ],
      "metadata": {
        "execution": {
          "iopub.status.busy": "2024-04-05T09:13:24.53386Z",
          "iopub.execute_input": "2024-04-05T09:13:24.53444Z",
          "iopub.status.idle": "2024-04-05T09:13:25.256534Z",
          "shell.execute_reply.started": "2024-04-05T09:13:24.534389Z",
          "shell.execute_reply": "2024-04-05T09:13:25.254948Z"
        },
        "trusted": true,
        "id": "cKzHB7DL11my"
      },
      "execution_count": null,
      "outputs": []
    },
    {
      "cell_type": "code",
      "source": [
        "count_0 = 0\n",
        "count_1 = 0\n",
        "for i in range(len(syn_train)):\n",
        "    if syn_train.iat[i, 87] == \"DrDoS_UDP\":\n",
        "        syn_train.iat[i, 87] = 1\n",
        "        count_1 += 1\n",
        "    else:\n",
        "        syn_train.iat[i, 87] = 0\n",
        "        count_0 +=1\n",
        "\n",
        "print(count_0)\n",
        "print(count_1)\n",
        "\n",
        "count_0 = 0\n",
        "count_1 = 0\n",
        "\n",
        "for i in range(len(syn_test)):\n",
        "    if syn_test.iat[i, 87] == \"UDP\":\n",
        "        syn_test.iat[i, 87] = 1\n",
        "        count_1 +=1\n",
        "    else:\n",
        "        syn_test.iat[i, 87] = 0\n",
        "        count_0 +=1\n",
        "print(count_0)\n",
        "print(count_1)\n",
        "\n",
        "syn_train_x = syn_train.drop([' Label',' Destination IP', ' Source IP', 'Flow ID', ' Timestamp','SimillarHTTP'], axis = 'columns')\n",
        "syn_train_y = syn_train[' Label']\n",
        "\n",
        "\n",
        "\n",
        "syn_test_x = syn_test.drop([' Label',' Destination IP', ' Source IP', 'Flow ID', ' Timestamp','SimillarHTTP'], axis = 'columns')\n",
        "syn_test_y = syn_test[' Label']\n"
      ],
      "metadata": {
        "execution": {
          "iopub.status.busy": "2024-04-05T09:13:25.26112Z",
          "iopub.execute_input": "2024-04-05T09:13:25.261891Z"
        },
        "trusted": true,
        "id": "NYcA5STM11my"
      },
      "execution_count": null,
      "outputs": []
    },
    {
      "cell_type": "code",
      "source": [
        "from sklearn.ensemble import RandomForestRegressor\n",
        "import matplotlib.pyplot as plt\n",
        "from sklearn.metrics import mean_squared_error, r2_score\n",
        "\n",
        "regressor = RandomForestRegressor(n_estimators=100, random_state=42, oob_score=True)\n",
        "regressor.fit(syn_train_x, syn_train_y)\n",
        "\n",
        "# Access the OOB Score\n",
        "oob_score = regressor.oob_score_\n",
        "print(f'Out-of-Bag Score: {oob_score}')\n",
        "\n",
        "# Making predictions on the same data or new data\n",
        "predictions = regressor.predict(syn_test_x)\n",
        "print(regressor.feature_importances_)\n",
        "\n",
        "global_importances = pd.Series(regressor.feature_importances_, index=syn_train_x.columns)\n",
        "global_importances.sort_values(ascending=True, inplace=True)\n",
        "global_importances.plot.barh(color='green', figsize = (8, 30))\n",
        "\n",
        "plt.xlabel(\"Importance\")\n",
        "plt.ylabel(\"Feature\")\n",
        "plt.title(\"Global Feature Importance - Built-in Method\")\n",
        "\n",
        "# Evaluating the model\n",
        "\n",
        "mse = mean_squared_error(syn_test_y, predictions)\n",
        "print(f'Mean Squared Error: {mse}')\n",
        "\n",
        "r2 = r2_score(syn_test_y, predictions)\n",
        "print(f'R-squared: {r2}')\n"
      ],
      "metadata": {
        "trusted": true,
        "id": "eIOPfnCK11mz"
      },
      "execution_count": null,
      "outputs": []
    },
    {
      "cell_type": "code",
      "source": [
        "syn_train_y = syn_train_y.astype('int')\n",
        "syn_test_y = syn_test_y.astype('int')\n",
        "print('hello')"
      ],
      "metadata": {
        "trusted": true,
        "id": "9ZFq1kUM11mz"
      },
      "execution_count": null,
      "outputs": []
    },
    {
      "cell_type": "code",
      "source": [
        "from sklearn.ensemble import RandomForestClassifier\n",
        "from sklearn.metrics import (\n",
        "    confusion_matrix,\n",
        "    accuracy_score,\n",
        "    precision_score,\n",
        "    recall_score,\n",
        "    f1_score\n",
        ")\n",
        "\n",
        "classifier= RandomForestClassifier(n_estimators= 100, criterion=\"entropy\")\n",
        "classifier.fit(syn_train_x, syn_train_y)\n",
        "\n",
        "predictions = classifier.predict(syn_test_x)\n",
        "\n",
        "acc = accuracy_score(syn_test_y, predictions)\n",
        "print(f'Accuracy: {acc}')\n",
        "\n",
        "precision = precision_score(syn_test_y, predictions)\n",
        "print(f'Precision: {precision}')\n",
        "\n",
        "recall = recall_score(syn_test_y, predictions)\n",
        "print(f'Recall: {recall}')\n",
        "\n",
        "f1 = f1_score(syn_test_y, predictions)\n",
        "print(f'F1 Score: {f1}')\n"
      ],
      "metadata": {
        "trusted": true,
        "id": "HJlvg-XB11m0"
      },
      "execution_count": null,
      "outputs": []
    },
    {
      "cell_type": "code",
      "source": [
        "from sklearn.linear_model import LogisticRegression\n",
        "from sklearn.metrics import accuracy_score\n",
        "\n",
        "clf = LogisticRegression(random_state=0, max_iter = 1000000)\n",
        "clf.fit(syn_train_x, syn_train_y)\n",
        "\n",
        "# Prediction\n",
        "predictions = clf.predict(syn_test_x)\n",
        "\n",
        "acc = accuracy_score(syn_test_y, predictions)\n",
        "print(f'Accuracy: {acc}')\n",
        "\n",
        "precision = precision_score(syn_test_y, predictions)\n",
        "print(f'Precision: {precision}')\n",
        "\n",
        "recall = recall_score(syn_test_y, predictions)\n",
        "print(f'Recall: {recall}')\n",
        "\n",
        "f1 = f1_score(syn_test_y, predictions)\n",
        "print(f'F1 Score: {f1}')"
      ],
      "metadata": {
        "trusted": true,
        "id": "IZkM9Xsc11m0"
      },
      "execution_count": null,
      "outputs": []
    },
    {
      "cell_type": "code",
      "source": [
        "from sklearn.naive_bayes import GaussianNB\n",
        "gnb = GaussianNB()\n",
        "gnb.fit(syn_train_x, syn_train_y)\n",
        "\n",
        "# making predictions on the testing set\n",
        "predictions = gnb.predict(syn_test_x)\n",
        "\n",
        "# comparing actual response values (y_test) with predicted response values (y_pred)\n",
        "acc = accuracy_score(syn_test_y, predictions)\n",
        "print(f'Accuracy: {acc}')\n",
        "\n",
        "precision = precision_score(syn_test_y, predictions)\n",
        "print(f'Precision: {precision}')\n",
        "\n",
        "recall = recall_score(syn_test_y, predictions)\n",
        "print(f'Recall: {recall}')\n",
        "\n",
        "f1 = f1_score(syn_test_y, predictions)\n",
        "print(f'F1 Score: {f1}')"
      ],
      "metadata": {
        "trusted": true,
        "id": "KQivQQwm11m0"
      },
      "execution_count": null,
      "outputs": []
    },
    {
      "cell_type": "code",
      "source": [],
      "metadata": {
        "trusted": true,
        "id": "ki1EJaEX11m1"
      },
      "execution_count": null,
      "outputs": []
    },
    {
      "cell_type": "code",
      "source": [],
      "metadata": {
        "trusted": true,
        "id": "t96WRRgb11m1"
      },
      "execution_count": null,
      "outputs": []
    }
  ]
}